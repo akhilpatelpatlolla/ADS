{
 "cells": [
  {
   "cell_type": "code",
   "execution_count": 1,
   "id": "868f9d30",
   "metadata": {},
   "outputs": [],
   "source": [
    "# Bubble Sort"
   ]
  },
  {
   "cell_type": "code",
   "execution_count": 2,
   "id": "8a577d87",
   "metadata": {},
   "outputs": [],
   "source": [
    " A = [-5, 3,2,1,-3,-3,7, 2, 2]"
   ]
  },
  {
   "cell_type": "code",
   "execution_count": 5,
   "id": "97a77360",
   "metadata": {},
   "outputs": [
    {
     "name": "stdout",
     "output_type": "stream",
     "text": [
      "[-5, -3, -3, 1, 2, 2, 2, 3, 7]\n"
     ]
    }
   ],
   "source": [
    "def bubbleSort(arr):\n",
    "    n = len(arr)\n",
    "    \n",
    "    flag = True\n",
    "    \n",
    "    while flag:\n",
    "        flag = False\n",
    "        \n",
    "        for i in range(1, n):\n",
    "            if arr[i-1] > arr[i]:\n",
    "                flag = True\n",
    "                arr[i-1], arr[i] = arr[i], arr[i-1]\n",
    "    return arr\n",
    "                \n",
    "print(bubbleSort(A))\n",
    "                \n",
    "        \n",
    "        \n"
   ]
  },
  {
   "cell_type": "code",
   "execution_count": 6,
   "id": "55f585d6",
   "metadata": {},
   "outputs": [
    {
     "data": {
      "text/plain": [
       "[-5, -3, -3, 1, 2, 2, 2, 3, 7]"
      ]
     },
     "execution_count": 6,
     "metadata": {},
     "output_type": "execute_result"
    }
   ],
   "source": [
    "A"
   ]
  },
  {
   "cell_type": "code",
   "execution_count": 7,
   "id": "66b4eace",
   "metadata": {},
   "outputs": [],
   "source": [
    "# Insertion Sort"
   ]
  },
  {
   "cell_type": "code",
   "execution_count": 8,
   "id": "bfffc798",
   "metadata": {},
   "outputs": [
    {
     "name": "stdout",
     "output_type": "stream",
     "text": [
      "[-5, -3, -3, 1, 2, 2, 2, 3, 7]\n"
     ]
    }
   ],
   "source": [
    "A = [-5, 3,2,1,-3,-3,7, 2, 2]\n",
    "def insertionSort(arr):\n",
    "    n = len(arr)\n",
    "    for i in range(1,n):\n",
    "        for j in range(i,0,-1):\n",
    "            if arr[j-1]>arr[j]:\n",
    "                arr[j-1], arr[j] = arr[j], arr[j-1]\n",
    "            else:\n",
    "                break\n",
    "    return arr\n",
    "                \n",
    "print(insertionSort(A))        "
   ]
  },
  {
   "cell_type": "code",
   "execution_count": null,
   "id": "f5fa5342",
   "metadata": {},
   "outputs": [],
   "source": []
  },
  {
   "cell_type": "code",
   "execution_count": 9,
   "id": "283b855e",
   "metadata": {},
   "outputs": [],
   "source": [
    "# Selection Sort"
   ]
  },
  {
   "cell_type": "code",
   "execution_count": 10,
   "id": "3c243118",
   "metadata": {},
   "outputs": [
    {
     "name": "stdout",
     "output_type": "stream",
     "text": [
      "[-5, -3, -3, 1, 2, 2, 2, 3, 7]\n"
     ]
    }
   ],
   "source": [
    "A = [-5, 3,2,1,-3,-3,7, 2, 2]\n",
    "def selectionSort(arr):\n",
    "    n = len(arr)\n",
    "    for i in range(1,n):\n",
    "        min_index = i\n",
    "        for j in range(i+1,n):\n",
    "            if arr[j]< min_index:\n",
    "                min_index = j\n",
    "        arr[i], arr[min_index] = arr[min_index], arr[i]\n",
    "    return arr\n",
    "                \n",
    "print(insertionSort(A))        "
   ]
  },
  {
   "cell_type": "code",
   "execution_count": null,
   "id": "f8e5fadc",
   "metadata": {},
   "outputs": [],
   "source": []
  },
  {
   "cell_type": "code",
   "execution_count": 11,
   "id": "1b1c9b7c",
   "metadata": {},
   "outputs": [],
   "source": [
    "# Merge Sort"
   ]
  },
  {
   "cell_type": "code",
   "execution_count": 14,
   "id": "540a6e34",
   "metadata": {},
   "outputs": [
    {
     "name": "stdout",
     "output_type": "stream",
     "text": [
      "[-5, -3, -3, 1, 2, 2, 2, 3, 7]\n"
     ]
    }
   ],
   "source": [
    "A = [-5, 3,2,1,-3,-3,7, 2, 2]\n",
    "\n",
    "def mergeSort(arr):\n",
    "    n = len(arr)\n",
    "\n",
    "    if n==0 or n==1:\n",
    "        return arr\n",
    "    m = len(arr)//2\n",
    "    \n",
    "    L = arr[:m]\n",
    "    R = arr[m:]\n",
    "    \n",
    "    L = mergeSort(L)\n",
    "    R = mergeSort(R)\n",
    "    \n",
    "    l,r = 0,0\n",
    "    \n",
    "    L_len = len(L)\n",
    "    R_len = len(R)\n",
    "    \n",
    "    \n",
    "    sorted_arr = [0]*n\n",
    "    i = 0\n",
    "    \n",
    "    while l < L_len and r < R_len:\n",
    "        if L[l] < R[r]:\n",
    "            sorted_arr[i] = L[l]\n",
    "            l += 1\n",
    "        else:\n",
    "            sorted_arr[i] = R[r]\n",
    "            r += 1\n",
    "        i += 1\n",
    "        \n",
    "    while l < L_len :\n",
    "        sorted_arr[i] = L[l]\n",
    "        l += 1\n",
    "        i += 1\n",
    "        \n",
    "    while r < R_len:\n",
    "        sorted_arr[i] = R[r]\n",
    "        r += 1\n",
    "        i += 1\n",
    "        \n",
    "    \n",
    "    \n",
    "    return sorted_arr\n",
    "\n",
    "print(mergeSort(A))"
   ]
  },
  {
   "cell_type": "code",
   "execution_count": null,
   "id": "11f9c4e5",
   "metadata": {},
   "outputs": [],
   "source": []
  }
 ],
 "metadata": {
  "kernelspec": {
   "display_name": "Python 3 (ipykernel)",
   "language": "python",
   "name": "python3"
  },
  "language_info": {
   "codemirror_mode": {
    "name": "ipython",
    "version": 3
   },
   "file_extension": ".py",
   "mimetype": "text/x-python",
   "name": "python",
   "nbconvert_exporter": "python",
   "pygments_lexer": "ipython3",
   "version": "3.8.5"
  }
 },
 "nbformat": 4,
 "nbformat_minor": 5
}
