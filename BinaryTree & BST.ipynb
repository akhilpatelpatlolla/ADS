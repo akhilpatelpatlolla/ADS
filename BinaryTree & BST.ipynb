{
 "cells": [
  {
   "cell_type": "code",
   "execution_count": 1,
   "id": "f03d145d",
   "metadata": {},
   "outputs": [],
   "source": [
    "class TreeNode:\n",
    "    def __init__(self, val, left = None, right = None):\n",
    "        self.val = val\n",
    "        self.left = left\n",
    "        self.right = right\n",
    "        \n",
    "    def __str__(self):\n",
    "        return str(self.val)\n",
    "    "
   ]
  },
  {
   "cell_type": "code",
   "execution_count": 2,
   "id": "4b73ac60",
   "metadata": {},
   "outputs": [],
   "source": [
    "A = TreeNode(1)\n",
    "B = TreeNode(2)\n",
    "C = TreeNode(3)\n",
    "D = TreeNode(4)\n",
    "E = TreeNode(5)\n",
    "F = TreeNode(10)"
   ]
  },
  {
   "cell_type": "code",
   "execution_count": 3,
   "id": "f5dfbb79",
   "metadata": {},
   "outputs": [
    {
     "name": "stdout",
     "output_type": "stream",
     "text": [
      "1\n"
     ]
    }
   ],
   "source": [
    "A.left = B\n",
    "A.right = C\n",
    "B.left = D\n",
    "B.right = E\n",
    "C.left = F\n",
    "\n",
    "print(A)"
   ]
  },
  {
   "cell_type": "code",
   "execution_count": 4,
   "id": "8f5f2ae8",
   "metadata": {},
   "outputs": [],
   "source": [
    "#DFS PreOrder "
   ]
  },
  {
   "cell_type": "code",
   "execution_count": 6,
   "id": "e9546cfb",
   "metadata": {},
   "outputs": [
    {
     "name": "stdout",
     "output_type": "stream",
     "text": [
      "1\n",
      "2\n",
      "4\n",
      "5\n",
      "3\n",
      "10\n"
     ]
    }
   ],
   "source": [
    "def pre_order(node):\n",
    "    if not node:\n",
    "        return \n",
    "    print(node)\n",
    "    pre_order(node.left)\n",
    "    pre_order(node.right)\n",
    "pre_order(A)"
   ]
  },
  {
   "cell_type": "code",
   "execution_count": 10,
   "id": "36a2dc67",
   "metadata": {},
   "outputs": [],
   "source": [
    "#InOrder"
   ]
  },
  {
   "cell_type": "code",
   "execution_count": 8,
   "id": "8d38ac00",
   "metadata": {},
   "outputs": [
    {
     "name": "stdout",
     "output_type": "stream",
     "text": [
      "4\n",
      "2\n",
      "5\n",
      "1\n",
      "10\n",
      "3\n"
     ]
    }
   ],
   "source": [
    "def in_order(node):\n",
    "    if not node:\n",
    "        return \n",
    "    in_order(node.left)\n",
    "    print(node)\n",
    "    in_order(node.right)\n",
    "in_order(A)"
   ]
  },
  {
   "cell_type": "code",
   "execution_count": 9,
   "id": "bbe5d2ff",
   "metadata": {},
   "outputs": [],
   "source": [
    "#Post Order"
   ]
  },
  {
   "cell_type": "code",
   "execution_count": 11,
   "id": "8f8db87c",
   "metadata": {},
   "outputs": [
    {
     "name": "stdout",
     "output_type": "stream",
     "text": [
      "4\n",
      "5\n",
      "2\n",
      "10\n",
      "3\n",
      "1\n"
     ]
    }
   ],
   "source": [
    "def post_order(node):\n",
    "    if not node:\n",
    "        return \n",
    "    post_order(node.left)\n",
    "    post_order(node.right)\n",
    "    print(node)\n",
    "    \n",
    "post_order(A)"
   ]
  },
  {
   "cell_type": "code",
   "execution_count": null,
   "id": "1f38aaac",
   "metadata": {},
   "outputs": [],
   "source": []
  },
  {
   "cell_type": "code",
   "execution_count": 13,
   "id": "59f739f4",
   "metadata": {},
   "outputs": [],
   "source": [
    "# Iterative Pre Order DFS"
   ]
  },
  {
   "cell_type": "code",
   "execution_count": 14,
   "id": "366b42af",
   "metadata": {},
   "outputs": [
    {
     "name": "stdout",
     "output_type": "stream",
     "text": [
      "1\n",
      "2\n",
      "4\n",
      "5\n",
      "3\n",
      "10\n"
     ]
    }
   ],
   "source": [
    "def pre_order_traversal(node):\n",
    "    stk = [node]\n",
    "    \n",
    "    while stk:\n",
    "        node = stk.pop()\n",
    "        print(node)\n",
    "        if node.right: stk.append(node.right)\n",
    "        if node.left: stk.append(node.left)    \n",
    "\n",
    "pre_order_traversal(A)        "
   ]
  },
  {
   "cell_type": "code",
   "execution_count": 16,
   "id": "8ba18340",
   "metadata": {},
   "outputs": [
    {
     "name": "stdout",
     "output_type": "stream",
     "text": [
      "1\n",
      "2\n",
      "4\n",
      "5\n",
      "3\n",
      "10\n"
     ]
    }
   ],
   "source": [
    "def post_order_traversal(node):\n",
    "    stk = [node]\n",
    "    \n",
    "    while stk:\n",
    "        node = stk.pop()\n",
    "        if node.right: stk.append(node.right)\n",
    "        if node.left: stk.append(node.left)    \n",
    "        print(node)\n",
    "post_order_traversal(A)        "
   ]
  },
  {
   "cell_type": "code",
   "execution_count": 18,
   "id": "23cab2c9",
   "metadata": {},
   "outputs": [
    {
     "name": "stdout",
     "output_type": "stream",
     "text": [
      "1\n",
      "2\n",
      "3\n",
      "4\n",
      "5\n",
      "10\n"
     ]
    }
   ],
   "source": [
    "from collections import deque\n",
    "\n",
    "def level_order(node):\n",
    "    q = deque()\n",
    "    q.append(node)\n",
    "    \n",
    "    while q:\n",
    "        node = q.popleft()\n",
    "        print(node)\n",
    "        if node.left: q.append(node.left)\n",
    "        if node.right: q.append(node.right)\n",
    "            \n",
    "level_order(A)  "
   ]
  },
  {
   "cell_type": "code",
   "execution_count": null,
   "id": "3c769bc9",
   "metadata": {},
   "outputs": [],
   "source": []
  },
  {
   "cell_type": "code",
   "execution_count": null,
   "id": "62c7b014",
   "metadata": {},
   "outputs": [],
   "source": []
  },
  {
   "cell_type": "code",
   "execution_count": 20,
   "id": "2568f57e",
   "metadata": {},
   "outputs": [
    {
     "data": {
      "text/plain": [
       "True"
      ]
     },
     "execution_count": 20,
     "metadata": {},
     "output_type": "execute_result"
    }
   ],
   "source": [
    "def search(node, target):\n",
    "    if not node:\n",
    "        return False\n",
    "    if node. val == target:\n",
    "        return True\n",
    "    \n",
    "    return search(node.left, target) or search(node.right, target)\n",
    "search(A, 5)"
   ]
  },
  {
   "cell_type": "code",
   "execution_count": null,
   "id": "837b75de",
   "metadata": {},
   "outputs": [],
   "source": []
  }
 ],
 "metadata": {
  "kernelspec": {
   "display_name": "Python 3 (ipykernel)",
   "language": "python",
   "name": "python3"
  },
  "language_info": {
   "codemirror_mode": {
    "name": "ipython",
    "version": 3
   },
   "file_extension": ".py",
   "mimetype": "text/x-python",
   "name": "python",
   "nbconvert_exporter": "python",
   "pygments_lexer": "ipython3",
   "version": "3.8.5"
  }
 },
 "nbformat": 4,
 "nbformat_minor": 5
}
