{
 "cells": [
  {
   "cell_type": "code",
   "execution_count": 1,
   "id": "fd11eb4a",
   "metadata": {},
   "outputs": [
    {
     "name": "stdout",
     "output_type": "stream",
     "text": [
      "set()\n"
     ]
    }
   ],
   "source": [
    "s = set()\n",
    "print(s)"
   ]
  },
  {
   "cell_type": "code",
   "execution_count": 2,
   "id": "f55fa874",
   "metadata": {},
   "outputs": [],
   "source": [
    "s.add(1)\n",
    "s.add(2)\n",
    "s.add(3)"
   ]
  },
  {
   "cell_type": "code",
   "execution_count": 3,
   "id": "1c1325ac",
   "metadata": {},
   "outputs": [
    {
     "name": "stdout",
     "output_type": "stream",
     "text": [
      "True\n"
     ]
    }
   ],
   "source": [
    "if 1 in s:\n",
    "    print(True)"
   ]
  },
  {
   "cell_type": "code",
   "execution_count": 4,
   "id": "b30b7112",
   "metadata": {},
   "outputs": [],
   "source": [
    "s.remove(1)"
   ]
  },
  {
   "cell_type": "code",
   "execution_count": 5,
   "id": "4fa52619",
   "metadata": {},
   "outputs": [
    {
     "data": {
      "text/plain": [
       "{2, 3}"
      ]
     },
     "execution_count": 5,
     "metadata": {},
     "output_type": "execute_result"
    }
   ],
   "source": [
    "s"
   ]
  },
  {
   "cell_type": "code",
   "execution_count": 8,
   "id": "cc1f1ec3",
   "metadata": {},
   "outputs": [],
   "source": [
    "s1 = \"aaaaaaabbbbbbbcccccccddddddd\"\n",
    "sett = set(s1)"
   ]
  },
  {
   "cell_type": "code",
   "execution_count": 10,
   "id": "7ed60110",
   "metadata": {},
   "outputs": [
    {
     "data": {
      "text/plain": [
       "{'a', 'b', 'c', 'd'}"
      ]
     },
     "execution_count": 10,
     "metadata": {},
     "output_type": "execute_result"
    }
   ],
   "source": [
    "sett #Order of S"
   ]
  },
  {
   "cell_type": "code",
   "execution_count": null,
   "id": "833a97ad",
   "metadata": {},
   "outputs": [],
   "source": []
  },
  {
   "cell_type": "code",
   "execution_count": null,
   "id": "3dd8e4ff",
   "metadata": {},
   "outputs": [],
   "source": []
  },
  {
   "cell_type": "code",
   "execution_count": 11,
   "id": "e2d6d47b",
   "metadata": {},
   "outputs": [],
   "source": [
    "# HashMaps - Dictionaries"
   ]
  },
  {
   "cell_type": "code",
   "execution_count": 12,
   "id": "a6b604e1",
   "metadata": {},
   "outputs": [],
   "source": [
    "d = {\"greg\" : 1, \"steve\":2, \"rob\":3}"
   ]
  },
  {
   "cell_type": "code",
   "execution_count": 13,
   "id": "10ffd121",
   "metadata": {},
   "outputs": [],
   "source": [
    "d[\"arsh\"] = 4"
   ]
  },
  {
   "cell_type": "code",
   "execution_count": 14,
   "id": "1f48bebb",
   "metadata": {},
   "outputs": [
    {
     "data": {
      "text/plain": [
       "{'greg': 1, 'steve': 2, 'rob': 3, 'arsh': 4}"
      ]
     },
     "execution_count": 14,
     "metadata": {},
     "output_type": "execute_result"
    }
   ],
   "source": [
    "d"
   ]
  },
  {
   "cell_type": "code",
   "execution_count": null,
   "id": "2803553f",
   "metadata": {},
   "outputs": [],
   "source": [
    "if 'greg' in "
   ]
  }
 ],
 "metadata": {
  "kernelspec": {
   "display_name": "Python 3 (ipykernel)",
   "language": "python",
   "name": "python3"
  },
  "language_info": {
   "codemirror_mode": {
    "name": "ipython",
    "version": 3
   },
   "file_extension": ".py",
   "mimetype": "text/x-python",
   "name": "python",
   "nbconvert_exporter": "python",
   "pygments_lexer": "ipython3",
   "version": "3.8.5"
  }
 },
 "nbformat": 4,
 "nbformat_minor": 5
}
