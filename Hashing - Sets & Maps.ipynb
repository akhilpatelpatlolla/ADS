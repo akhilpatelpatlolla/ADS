{
 "cells": [
  {
   "cell_type": "code",
   "execution_count": 1,
   "id": "79233a24",
   "metadata": {},
   "outputs": [
    {
     "name": "stdout",
     "output_type": "stream",
     "text": [
      "set()\n"
     ]
    }
   ],
   "source": [
    "s = set()\n",
    "print(s)"
   ]
  },
  {
   "cell_type": "code",
   "execution_count": 2,
   "id": "b27f1b8e",
   "metadata": {},
   "outputs": [],
   "source": [
    "s.add(1)\n",
    "s.add(2)\n",
    "s.add(3)"
   ]
  },
  {
   "cell_type": "code",
   "execution_count": 3,
   "id": "2eb5320c",
   "metadata": {},
   "outputs": [
    {
     "name": "stdout",
     "output_type": "stream",
     "text": [
      "True\n"
     ]
    }
   ],
   "source": [
    "if 1 in s:\n",
    "    print(True)"
   ]
  },
  {
   "cell_type": "code",
   "execution_count": 4,
   "id": "b7b9433b",
   "metadata": {},
   "outputs": [],
   "source": [
    "s.remove(1)"
   ]
  },
  {
   "cell_type": "code",
   "execution_count": 5,
   "id": "1190e78e",
   "metadata": {},
   "outputs": [
    {
     "data": {
      "text/plain": [
       "{2, 3}"
      ]
     },
     "execution_count": 5,
     "metadata": {},
     "output_type": "execute_result"
    }
   ],
   "source": [
    "s"
   ]
  },
  {
   "cell_type": "code",
   "execution_count": 8,
   "id": "27e588b3",
   "metadata": {},
   "outputs": [],
   "source": [
    "s1 = \"aaaaaaabbbbbbbcccccccddddddd\"\n",
    "sett = set(s1)"
   ]
  },
  {
   "cell_type": "code",
   "execution_count": 10,
   "id": "179b5c9a",
   "metadata": {},
   "outputs": [
    {
     "data": {
      "text/plain": [
       "{'a', 'b', 'c', 'd'}"
      ]
     },
     "execution_count": 10,
     "metadata": {},
     "output_type": "execute_result"
    }
   ],
   "source": [
    "sett #Order of S"
   ]
  },
  {
   "cell_type": "code",
   "execution_count": null,
   "id": "fcc2356a",
   "metadata": {},
   "outputs": [],
   "source": []
  },
  {
   "cell_type": "code",
   "execution_count": null,
   "id": "41ff2ebf",
   "metadata": {},
   "outputs": [],
   "source": []
  },
  {
   "cell_type": "code",
   "execution_count": 11,
   "id": "ef5f8a23",
   "metadata": {},
   "outputs": [],
   "source": [
    "# HashMaps - Dictionaries"
   ]
  },
  {
   "cell_type": "code",
   "execution_count": 12,
   "id": "2dbe7122",
   "metadata": {},
   "outputs": [],
   "source": [
    "d = {\"greg\" : 1, \"steve\":2, \"rob\":3}"
   ]
  },
  {
   "cell_type": "code",
   "execution_count": 13,
   "id": "a53d42b5",
   "metadata": {},
   "outputs": [],
   "source": [
    "d[\"arsh\"] = 4"
   ]
  },
  {
   "cell_type": "code",
   "execution_count": 14,
   "id": "9fee569a",
   "metadata": {},
   "outputs": [
    {
     "data": {
      "text/plain": [
       "{'greg': 1, 'steve': 2, 'rob': 3, 'arsh': 4}"
      ]
     },
     "execution_count": 14,
     "metadata": {},
     "output_type": "execute_result"
    }
   ],
   "source": [
    "d"
   ]
  },
  {
   "cell_type": "code",
   "execution_count": 15,
   "id": "b9fc7cae",
   "metadata": {},
   "outputs": [
    {
     "name": "stdout",
     "output_type": "stream",
     "text": [
      "True\n"
     ]
    }
   ],
   "source": [
    "if 'greg' in d:\n",
    "    print(True)"
   ]
  },
  {
   "cell_type": "code",
   "execution_count": 16,
   "id": "79d6b1db",
   "metadata": {},
   "outputs": [
    {
     "data": {
      "text/plain": [
       "1"
      ]
     },
     "execution_count": 16,
     "metadata": {},
     "output_type": "execute_result"
    }
   ],
   "source": [
    "d[\"greg\"]"
   ]
  },
  {
   "cell_type": "code",
   "execution_count": 17,
   "id": "b2948f9d",
   "metadata": {},
   "outputs": [
    {
     "name": "stdout",
     "output_type": "stream",
     "text": [
      "key greg: value 1\n",
      "key steve: value 2\n",
      "key rob: value 3\n",
      "key arsh: value 4\n"
     ]
    }
   ],
   "source": [
    "for key, value in d.items():\n",
    "    print(f'key {key}: value {value}')\n"
   ]
  },
  {
   "cell_type": "code",
   "execution_count": 20,
   "id": "b57eefa9",
   "metadata": {},
   "outputs": [
    {
     "data": {
      "text/plain": [
       "0"
      ]
     },
     "execution_count": 20,
     "metadata": {},
     "output_type": "execute_result"
    }
   ],
   "source": [
    "from collections import defaultdict\n",
    "\n",
    "di = defaultdict(int)\n",
    "\n",
    "di[5]"
   ]
  },
  {
   "cell_type": "code",
   "execution_count": 21,
   "id": "e1e74f80",
   "metadata": {},
   "outputs": [
    {
     "data": {
      "text/plain": [
       "defaultdict(int, {5: 0})"
      ]
     },
     "execution_count": 21,
     "metadata": {},
     "output_type": "execute_result"
    }
   ],
   "source": [
    "di"
   ]
  },
  {
   "cell_type": "code",
   "execution_count": 23,
   "id": "c837833a",
   "metadata": {},
   "outputs": [],
   "source": [
    "#Counter"
   ]
  },
  {
   "cell_type": "code",
   "execution_count": 24,
   "id": "66effb6a",
   "metadata": {},
   "outputs": [],
   "source": [
    "from collections import Counter\n",
    "counter = Counter(s1)"
   ]
  },
  {
   "cell_type": "code",
   "execution_count": 25,
   "id": "32f02225",
   "metadata": {},
   "outputs": [
    {
     "data": {
      "text/plain": [
       "Counter({'a': 7, 'b': 7, 'c': 7, 'd': 7})"
      ]
     },
     "execution_count": 25,
     "metadata": {},
     "output_type": "execute_result"
    }
   ],
   "source": [
    "counter"
   ]
  },
  {
   "cell_type": "code",
   "execution_count": null,
   "id": "47574711",
   "metadata": {},
   "outputs": [],
   "source": []
  }
 ],
 "metadata": {
  "kernelspec": {
   "display_name": "Python 3 (ipykernel)",
   "language": "python",
   "name": "python3"
  },
  "language_info": {
   "codemirror_mode": {
    "name": "ipython",
    "version": 3
   },
   "file_extension": ".py",
   "mimetype": "text/x-python",
   "name": "python",
   "nbconvert_exporter": "python",
   "pygments_lexer": "ipython3",
   "version": "3.8.5"
  }
 },
 "nbformat": 4,
 "nbformat_minor": 5
}
