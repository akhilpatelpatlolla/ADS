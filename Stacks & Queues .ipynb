{
 "cells": [
  {
   "cell_type": "code",
   "execution_count": 1,
   "id": "6dfca2fd",
   "metadata": {},
   "outputs": [],
   "source": [
    "#Stack - LIFO - > Last in first out\n",
    "stk = []"
   ]
  },
  {
   "cell_type": "code",
   "execution_count": 2,
   "id": "4c0d4d70",
   "metadata": {},
   "outputs": [],
   "source": [
    "stk.append(5)\n",
    "stk.append(4)\n",
    "stk.append(3)"
   ]
  },
  {
   "cell_type": "code",
   "execution_count": 3,
   "id": "97ffc879",
   "metadata": {},
   "outputs": [
    {
     "data": {
      "text/plain": [
       "[5, 4, 3]"
      ]
     },
     "execution_count": 3,
     "metadata": {},
     "output_type": "execute_result"
    }
   ],
   "source": [
    "stk"
   ]
  },
  {
   "cell_type": "code",
   "execution_count": 4,
   "id": "fc440470",
   "metadata": {},
   "outputs": [],
   "source": [
    "x = stk.pop()"
   ]
  },
  {
   "cell_type": "code",
   "execution_count": 5,
   "id": "a83d95e6",
   "metadata": {},
   "outputs": [
    {
     "data": {
      "text/plain": [
       "[5, 4]"
      ]
     },
     "execution_count": 5,
     "metadata": {},
     "output_type": "execute_result"
    }
   ],
   "source": [
    "stk"
   ]
  },
  {
   "cell_type": "code",
   "execution_count": 7,
   "id": "ff7af86f",
   "metadata": {},
   "outputs": [
    {
     "data": {
      "text/plain": [
       "4"
      ]
     },
     "execution_count": 7,
     "metadata": {},
     "output_type": "execute_result"
    }
   ],
   "source": [
    "stk[-1]"
   ]
  },
  {
   "cell_type": "code",
   "execution_count": 8,
   "id": "ebd67a22",
   "metadata": {},
   "outputs": [
    {
     "name": "stdout",
     "output_type": "stream",
     "text": [
      "True\n"
     ]
    }
   ],
   "source": [
    "if stk:\n",
    "    print(True)"
   ]
  },
  {
   "cell_type": "code",
   "execution_count": null,
   "id": "43ece63a",
   "metadata": {},
   "outputs": [],
   "source": []
  },
  {
   "cell_type": "code",
   "execution_count": null,
   "id": "afec6eb2",
   "metadata": {},
   "outputs": [],
   "source": []
  },
  {
   "cell_type": "code",
   "execution_count": 11,
   "id": "db55b351",
   "metadata": {},
   "outputs": [],
   "source": [
    "# Queues - FIFO - > FIRST IN FIRST OUT"
   ]
  },
  {
   "cell_type": "code",
   "execution_count": 16,
   "id": "a97efc98",
   "metadata": {},
   "outputs": [],
   "source": [
    "from collections import deque\n"
   ]
  },
  {
   "cell_type": "code",
   "execution_count": 17,
   "id": "3b3a1a68",
   "metadata": {},
   "outputs": [
    {
     "data": {
      "text/plain": [
       "deque([])"
      ]
     },
     "execution_count": 17,
     "metadata": {},
     "output_type": "execute_result"
    }
   ],
   "source": [
    "q = deque()\n",
    "q"
   ]
  },
  {
   "cell_type": "code",
   "execution_count": null,
   "id": "23752c8b",
   "metadata": {},
   "outputs": [],
   "source": []
  },
  {
   "cell_type": "code",
   "execution_count": 18,
   "id": "6d5f12da",
   "metadata": {},
   "outputs": [],
   "source": [
    "#Enqueue \n",
    "q.append(5)"
   ]
  },
  {
   "cell_type": "code",
   "execution_count": 19,
   "id": "45080992",
   "metadata": {},
   "outputs": [
    {
     "data": {
      "text/plain": [
       "deque([5])"
      ]
     },
     "execution_count": 19,
     "metadata": {},
     "output_type": "execute_result"
    }
   ],
   "source": [
    "q"
   ]
  },
  {
   "cell_type": "code",
   "execution_count": 20,
   "id": "a7dbaf7c",
   "metadata": {},
   "outputs": [],
   "source": [
    "q.append(6)"
   ]
  },
  {
   "cell_type": "code",
   "execution_count": 21,
   "id": "fd379f47",
   "metadata": {},
   "outputs": [
    {
     "data": {
      "text/plain": [
       "deque([5, 6])"
      ]
     },
     "execution_count": 21,
     "metadata": {},
     "output_type": "execute_result"
    }
   ],
   "source": [
    "q"
   ]
  },
  {
   "cell_type": "code",
   "execution_count": 22,
   "id": "3d28e156",
   "metadata": {},
   "outputs": [],
   "source": [
    "#dequeue"
   ]
  },
  {
   "cell_type": "code",
   "execution_count": 23,
   "id": "15fcf72e",
   "metadata": {},
   "outputs": [
    {
     "data": {
      "text/plain": [
       "5"
      ]
     },
     "execution_count": 23,
     "metadata": {},
     "output_type": "execute_result"
    }
   ],
   "source": [
    "q.popleft()"
   ]
  },
  {
   "cell_type": "code",
   "execution_count": 25,
   "id": "9095ce1c",
   "metadata": {},
   "outputs": [
    {
     "data": {
      "text/plain": [
       "(6, 6)"
      ]
     },
     "execution_count": 25,
     "metadata": {},
     "output_type": "execute_result"
    }
   ],
   "source": [
    "q[0],q[-1] #Peek"
   ]
  },
  {
   "cell_type": "code",
   "execution_count": null,
   "id": "700673be",
   "metadata": {},
   "outputs": [],
   "source": []
  }
 ],
 "metadata": {
  "kernelspec": {
   "display_name": "Python 3 (ipykernel)",
   "language": "python",
   "name": "python3"
  },
  "language_info": {
   "codemirror_mode": {
    "name": "ipython",
    "version": 3
   },
   "file_extension": ".py",
   "mimetype": "text/x-python",
   "name": "python",
   "nbconvert_exporter": "python",
   "pygments_lexer": "ipython3",
   "version": "3.8.5"
  }
 },
 "nbformat": 4,
 "nbformat_minor": 5
}
