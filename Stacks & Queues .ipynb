{
 "cells": [
  {
   "cell_type": "code",
   "execution_count": 1,
   "id": "b344440f",
   "metadata": {},
   "outputs": [],
   "source": [
    "#Stack - LIFO - > Last in first out\n",
    "stk = []"
   ]
  },
  {
   "cell_type": "code",
   "execution_count": 2,
   "id": "a22632f3",
   "metadata": {},
   "outputs": [],
   "source": [
    "stk.append(5)\n",
    "stk.append(4)\n",
    "stk.append(3)"
   ]
  },
  {
   "cell_type": "code",
   "execution_count": 3,
   "id": "775d3819",
   "metadata": {},
   "outputs": [
    {
     "data": {
      "text/plain": [
       "[5, 4, 3]"
      ]
     },
     "execution_count": 3,
     "metadata": {},
     "output_type": "execute_result"
    }
   ],
   "source": [
    "stk"
   ]
  },
  {
   "cell_type": "code",
   "execution_count": 4,
   "id": "8a505093",
   "metadata": {},
   "outputs": [],
   "source": [
    "x = stk.pop()"
   ]
  },
  {
   "cell_type": "code",
   "execution_count": 5,
   "id": "9dbc5235",
   "metadata": {},
   "outputs": [
    {
     "data": {
      "text/plain": [
       "[5, 4]"
      ]
     },
     "execution_count": 5,
     "metadata": {},
     "output_type": "execute_result"
    }
   ],
   "source": [
    "stk"
   ]
  },
  {
   "cell_type": "code",
   "execution_count": 7,
   "id": "f26dab31",
   "metadata": {},
   "outputs": [
    {
     "data": {
      "text/plain": [
       "4"
      ]
     },
     "execution_count": 7,
     "metadata": {},
     "output_type": "execute_result"
    }
   ],
   "source": [
    "stk[-1]"
   ]
  },
  {
   "cell_type": "code",
   "execution_count": 8,
   "id": "25e89f09",
   "metadata": {},
   "outputs": [
    {
     "name": "stdout",
     "output_type": "stream",
     "text": [
      "True\n"
     ]
    }
   ],
   "source": [
    "if stk:\n",
    "    print(True)"
   ]
  },
  {
   "cell_type": "code",
   "execution_count": null,
   "id": "95228e25",
   "metadata": {},
   "outputs": [],
   "source": []
  },
  {
   "cell_type": "code",
   "execution_count": null,
   "id": "faabf93e",
   "metadata": {},
   "outputs": [],
   "source": []
  },
  {
   "cell_type": "code",
   "execution_count": 11,
   "id": "5b7b7789",
   "metadata": {},
   "outputs": [],
   "source": [
    "# Queues - FIFO - > FIRST IN FIRST OUT"
   ]
  },
  {
   "cell_type": "code",
   "execution_count": 16,
   "id": "687489af",
   "metadata": {},
   "outputs": [],
   "source": [
    "from collections import deque\n"
   ]
  },
  {
   "cell_type": "code",
   "execution_count": 17,
   "id": "a2af41c3",
   "metadata": {},
   "outputs": [
    {
     "data": {
      "text/plain": [
       "deque([])"
      ]
     },
     "execution_count": 17,
     "metadata": {},
     "output_type": "execute_result"
    }
   ],
   "source": [
    "q = deque()\n",
    "q"
   ]
  },
  {
   "cell_type": "code",
   "execution_count": null,
   "id": "cf8cbdba",
   "metadata": {},
   "outputs": [],
   "source": []
  },
  {
   "cell_type": "code",
   "execution_count": 18,
   "id": "0d301b51",
   "metadata": {},
   "outputs": [],
   "source": [
    "#Enqueue \n",
    "q.append(5)"
   ]
  },
  {
   "cell_type": "code",
   "execution_count": 19,
   "id": "7b1ea8f3",
   "metadata": {},
   "outputs": [
    {
     "data": {
      "text/plain": [
       "deque([5])"
      ]
     },
     "execution_count": 19,
     "metadata": {},
     "output_type": "execute_result"
    }
   ],
   "source": [
    "q"
   ]
  },
  {
   "cell_type": "code",
   "execution_count": 20,
   "id": "846d3905",
   "metadata": {},
   "outputs": [],
   "source": [
    "q.append(6)"
   ]
  },
  {
   "cell_type": "code",
   "execution_count": 21,
   "id": "ae9331b2",
   "metadata": {},
   "outputs": [
    {
     "data": {
      "text/plain": [
       "deque([5, 6])"
      ]
     },
     "execution_count": 21,
     "metadata": {},
     "output_type": "execute_result"
    }
   ],
   "source": [
    "q"
   ]
  },
  {
   "cell_type": "code",
   "execution_count": 22,
   "id": "174dba51",
   "metadata": {},
   "outputs": [],
   "source": [
    "#dequeue"
   ]
  },
  {
   "cell_type": "code",
   "execution_count": 23,
   "id": "a7ad5f92",
   "metadata": {},
   "outputs": [
    {
     "data": {
      "text/plain": [
       "5"
      ]
     },
     "execution_count": 23,
     "metadata": {},
     "output_type": "execute_result"
    }
   ],
   "source": [
    "q.popleft()"
   ]
  },
  {
   "cell_type": "code",
   "execution_count": 25,
   "id": "f7fd2562",
   "metadata": {},
   "outputs": [
    {
     "data": {
      "text/plain": [
       "(6, 6)"
      ]
     },
     "execution_count": 25,
     "metadata": {},
     "output_type": "execute_result"
    }
   ],
   "source": [
    "q[0],q[-1] #Peek"
   ]
  },
  {
   "cell_type": "code",
   "execution_count": null,
   "id": "01129e20",
   "metadata": {},
   "outputs": [],
   "source": []
  }
 ],
 "metadata": {
  "kernelspec": {
   "display_name": "Python 3 (ipykernel)",
   "language": "python",
   "name": "python3"
  },
  "language_info": {
   "codemirror_mode": {
    "name": "ipython",
    "version": 3
   },
   "file_extension": ".py",
   "mimetype": "text/x-python",
   "name": "python",
   "nbconvert_exporter": "python",
   "pygments_lexer": "ipython3",
   "version": "3.8.5"
  }
 },
 "nbformat": 4,
 "nbformat_minor": 5
}
