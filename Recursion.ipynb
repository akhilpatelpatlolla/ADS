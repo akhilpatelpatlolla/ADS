{
 "cells": [
  {
   "cell_type": "code",
   "execution_count": 1,
   "id": "32ee39c1",
   "metadata": {},
   "outputs": [],
   "source": [
    "# #Fibonacci \n",
    "\n",
    "# F(0) = 0\n",
    "# F(1) = 1\n",
    "# if n>1 : then F(n-2)+F(n-1)"
   ]
  },
  {
   "cell_type": "code",
   "execution_count": 2,
   "id": "9948dbb7",
   "metadata": {},
   "outputs": [],
   "source": [
    "def F(n):\n",
    "    if n == 0:\n",
    "        return 0\n",
    "    elif n == 1:\n",
    "        return 1\n",
    "    else:\n",
    "        return F(n-2)+F(n-1)"
   ]
  },
  {
   "cell_type": "code",
   "execution_count": 4,
   "id": "100832e9",
   "metadata": {},
   "outputs": [
    {
     "data": {
      "text/plain": [
       "144"
      ]
     },
     "execution_count": 4,
     "metadata": {},
     "output_type": "execute_result"
    }
   ],
   "source": [
    "F(12)"
   ]
  },
  {
   "cell_type": "code",
   "execution_count": null,
   "id": "b848fac0",
   "metadata": {},
   "outputs": [],
   "source": []
  },
  {
   "cell_type": "code",
   "execution_count": 5,
   "id": "73a011bf",
   "metadata": {},
   "outputs": [],
   "source": [
    "# Linked Lists"
   ]
  },
  {
   "cell_type": "code",
   "execution_count": 7,
   "id": "7b7392ed",
   "metadata": {},
   "outputs": [
    {
     "name": "stdout",
     "output_type": "stream",
     "text": [
      "1\n"
     ]
    }
   ],
   "source": [
    "class SinglyNode:\n",
    "    def __init__(self, val, next = None):\n",
    "        self.val = val\n",
    "        self.next = next\n",
    "    \n",
    "    def __str__(self):\n",
    "        return str(self.val)\n",
    "\n",
    "Head = SinglyNode(1)\n",
    "\n",
    "A = SinglyNode(3)\n",
    "B = SinglyNode(4)\n",
    "C = SinglyNode(7)\n",
    "\n",
    "Head.next = A\n",
    "A.next = B\n",
    "B.next = C\n",
    "\n",
    "print(Head)"
   ]
  },
  {
   "cell_type": "code",
   "execution_count": 9,
   "id": "ead34740",
   "metadata": {},
   "outputs": [
    {
     "name": "stdout",
     "output_type": "stream",
     "text": [
      "7\n",
      "4\n",
      "3\n",
      "1\n"
     ]
    }
   ],
   "source": [
    "def reverse(node):\n",
    "    if not node:\n",
    "        return \n",
    "    reverse(node.next)\n",
    "    print(node)\n",
    "reverse(Head)"
   ]
  },
  {
   "cell_type": "code",
   "execution_count": null,
   "id": "acfd2810",
   "metadata": {},
   "outputs": [],
   "source": []
  }
 ],
 "metadata": {
  "kernelspec": {
   "display_name": "Python 3 (ipykernel)",
   "language": "python",
   "name": "python3"
  },
  "language_info": {
   "codemirror_mode": {
    "name": "ipython",
    "version": 3
   },
   "file_extension": ".py",
   "mimetype": "text/x-python",
   "name": "python",
   "nbconvert_exporter": "python",
   "pygments_lexer": "ipython3",
   "version": "3.8.5"
  }
 },
 "nbformat": 4,
 "nbformat_minor": 5
}
