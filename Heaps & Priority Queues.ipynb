{
 "cells": [
  {
   "cell_type": "code",
   "execution_count": 1,
   "id": "89818aeb",
   "metadata": {},
   "outputs": [],
   "source": [
    "import heapq\n"
   ]
  },
  {
   "cell_type": "code",
   "execution_count": 2,
   "id": "33f4a6db",
   "metadata": {},
   "outputs": [],
   "source": [
    "A = [-4,3,1,0,2,5,10,8,12,9]"
   ]
  },
  {
   "cell_type": "code",
   "execution_count": 3,
   "id": "c25b4466",
   "metadata": {},
   "outputs": [],
   "source": [
    "heapq.heapify(A)"
   ]
  },
  {
   "cell_type": "code",
   "execution_count": 4,
   "id": "7c9d03a3",
   "metadata": {},
   "outputs": [
    {
     "data": {
      "text/plain": [
       "[-4, 0, 1, 3, 2, 5, 10, 8, 12, 9]"
      ]
     },
     "execution_count": 4,
     "metadata": {},
     "output_type": "execute_result"
    }
   ],
   "source": [
    "A"
   ]
  },
  {
   "cell_type": "code",
   "execution_count": 5,
   "id": "376e82a7",
   "metadata": {},
   "outputs": [],
   "source": [
    "# Heap Push "
   ]
  },
  {
   "cell_type": "code",
   "execution_count": 7,
   "id": "4bad71df",
   "metadata": {},
   "outputs": [],
   "source": [
    "heapq.heappush(A,4)"
   ]
  },
  {
   "cell_type": "code",
   "execution_count": 8,
   "id": "ae316888",
   "metadata": {},
   "outputs": [
    {
     "data": {
      "text/plain": [
       "[-4, 0, 1, 3, 2, 5, 10, 8, 12, 9, 4]"
      ]
     },
     "execution_count": 8,
     "metadata": {},
     "output_type": "execute_result"
    }
   ],
   "source": [
    "A"
   ]
  },
  {
   "cell_type": "code",
   "execution_count": 9,
   "id": "5c20acb4",
   "metadata": {},
   "outputs": [],
   "source": [
    "# Heap Pop"
   ]
  },
  {
   "cell_type": "code",
   "execution_count": 11,
   "id": "85bda55d",
   "metadata": {},
   "outputs": [
    {
     "data": {
      "text/plain": [
       "([0, 2, 1, 3, 4, 5, 10, 8, 12, 9], -4)"
      ]
     },
     "execution_count": 11,
     "metadata": {},
     "output_type": "execute_result"
    }
   ],
   "source": [
    "minn = heapq.heappop(A)\n",
    "A,minn"
   ]
  },
  {
   "cell_type": "code",
   "execution_count": 12,
   "id": "a59dfe14",
   "metadata": {},
   "outputs": [],
   "source": [
    "#HEAP SORT"
   ]
  },
  {
   "cell_type": "code",
   "execution_count": 15,
   "id": "31db9b30",
   "metadata": {},
   "outputs": [],
   "source": [
    "def heapsort(arr):\n",
    "    heapq.heapify(arr)\n",
    "    \n",
    "    n = len(arr)\n",
    "    new_list = [0]*n\n",
    "    \n",
    "    for i in range(n):\n",
    "        minn = heapq.heappop(arr)\n",
    "        new_list[i] = minn\n",
    "        \n",
    "    return new_list"
   ]
  },
  {
   "cell_type": "code",
   "execution_count": 16,
   "id": "652335ff",
   "metadata": {},
   "outputs": [
    {
     "data": {
      "text/plain": [
       "[-4, 0, 1, 2, 3, 4, 5, 8, 9, 10, 12]"
      ]
     },
     "execution_count": 16,
     "metadata": {},
     "output_type": "execute_result"
    }
   ],
   "source": [
    "arr = [-4, 0, 1, 3, 2, 5, 10, 8, 12, 9, 4]\n",
    "heapsort(arr)"
   ]
  },
  {
   "cell_type": "code",
   "execution_count": 21,
   "id": "5e462ba8",
   "metadata": {},
   "outputs": [
    {
     "data": {
      "text/plain": [
       "[5, 8, 10, 12, 9, 99, 99, 99, 99, 99]"
      ]
     },
     "execution_count": 21,
     "metadata": {},
     "output_type": "execute_result"
    }
   ],
   "source": [
    "heapq.heappushpop(A,99)\n",
    "A"
   ]
  },
  {
   "cell_type": "code",
   "execution_count": null,
   "id": "693be1ba",
   "metadata": {},
   "outputs": [],
   "source": []
  }
 ],
 "metadata": {
  "kernelspec": {
   "display_name": "Python 3 (ipykernel)",
   "language": "python",
   "name": "python3"
  },
  "language_info": {
   "codemirror_mode": {
    "name": "ipython",
    "version": 3
   },
   "file_extension": ".py",
   "mimetype": "text/x-python",
   "name": "python",
   "nbconvert_exporter": "python",
   "pygments_lexer": "ipython3",
   "version": "3.8.5"
  }
 },
 "nbformat": 4,
 "nbformat_minor": 5
}
